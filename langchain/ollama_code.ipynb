{
 "cells": [
  {
   "cell_type": "code",
   "execution_count": 28,
   "id": "1a3ce2ba-21f3-4884-a4d0-40e8e1feef7f",
   "metadata": {},
   "outputs": [],
   "source": [
    "from git import Repo"
   ]
  },
  {
   "cell_type": "code",
   "execution_count": 29,
   "id": "f004d2dd-c0d8-4770-a480-029178ef2229",
   "metadata": {},
   "outputs": [],
   "source": [
    "repo_path = \"/Users/ashegde/Documents/projs/genai/experiments-genai/langchain/data/code\"\n",
    "# repo = Repo.clone_from(\"https://github.com/beaver-infra/template-py-rest-microservice\", to_path=repo_path)"
   ]
  },
  {
   "cell_type": "code",
   "execution_count": 30,
   "id": "896dec47-a759-4104-a7d3-c744e07b4725",
   "metadata": {},
   "outputs": [
    {
     "name": "stdout",
     "output_type": "stream",
     "text": [
      "/Users/ashegde/Documents/projs/genai/experiments-genai/langchain/data/code\n"
     ]
    },
    {
     "data": {
      "text/plain": [
       "18"
      ]
     },
     "execution_count": 30,
     "metadata": {},
     "output_type": "execute_result"
    }
   ],
   "source": [
    "from langchain_community.document_loaders.generic import GenericLoader\n",
    "from langchain_community.document_loaders.parsers import LanguageParser\n",
    "from langchain_text_splitters import Language\n",
    "\n",
    "print(repo_path)\n",
    "loader = GenericLoader.from_filesystem(\n",
    "    repo_path,\n",
    "    glob=\"**/*\",\n",
    "    suffixes=[\".py\"],\n",
    "    parser=LanguageParser(language=Language.PYTHON, parser_threshold=500),\n",
    ")\n",
    "documents = loader.load()\n",
    "len(documents)"
   ]
  },
  {
   "cell_type": "code",
   "execution_count": 32,
   "id": "6bc8e09f-0513-48bf-8032-04f930787994",
   "metadata": {},
   "outputs": [
    {
     "name": "stdout",
     "output_type": "stream",
     "text": [
      "16\n",
      "[Document(page_content='\"\"\"\\nContains service level configurations and metadata retrieval methods.\\n\"\"\"\\n\\nfrom typing import ClassVar\\n\\nfrom pydantic_settings import BaseSettings', metadata={'source': '/Users/ashegde/Documents/projs/genai/experiments-genai/langchain/data/code/app/metadata.py', 'language': <Language.PYTHON: 'python'>}), Document(page_content='class Metadata(BaseSettings):\\n    \"\"\"\\n    Represents metadata for the application.\\n    \"\"\"\\n\\n    # Metadata properties\\n    title: ClassVar[str] = \"dummy_users\"\\n    description: ClassVar[str] = (\\n        \"Service to fetch the list of dummy users from 3rd party downstream services\"\\n    )\\n    version: ClassVar[str] = \"1.1.6\"\\n    contact: ClassVar[dict] = {\\n        \"name\": \"Ashwin Hegde\",\\n        \"url\": \"https://github.com/hegdeashwin\",\\n        \"email\": \"ashwin.hegde3@gmail.com\",\\n    }\\n\\n    def get_service_title(self):\\n        \"\"\"\\n        Retrieves the title of the service.\\n        \"\"\"\\n        return self.title\\n\\n    def get_service_description(self):\\n        \"\"\"\\n        Retrieves the description of the service.\\n        \"\"\"\\n        return self.description\\n\\n    def get_service_release_version(self):\\n        \"\"\"\\n        Retrieves the release version of the service.\\n        \"\"\"\\n        return self.version\\n\\n    def get_service_contact(self):\\n        \"\"\"\\n        Retrieves the contact information of the service.\\n        \"\"\"\\n        return self.contact\\n\\n    def get_hostname(self):\\n        \"\"\"\\n        Retrieves the machine hostname.\\n        \"\"\"\\n        return \"127.0.0.1\"\\n\\n    def get_port(self):\\n        \"\"\"\\n        Retrieves the application server port.\\n\\n        This port should be unique among all microservices existing for beaver.\\n        \"\"\"\\n        return 3000\\n\\n    def is_debug_mode(self):\\n        \"\"\"\\n        Determines if the service is in debug mode.\\n        \"\"\"\\n        return True\\n\\n    def get_metadata(self):\\n        \"\"\"\\n        Retrieves the metadata object of the service.\\n        \"\"\"\\n        return {\\n            \"title\": self.title,\\n            \"description\": self.description,\\n            \"version\": self.version,\\n            \"contact\": self.contact,\\n            \"hostname\": self.get_hostname(),\\n            \"port\": self.get_port(),\\n        }', metadata={'source': '/Users/ashegde/Documents/projs/genai/experiments-genai/langchain/data/code/app/metadata.py', 'language': <Language.PYTHON: 'python'>}), Document(page_content='\"\"\"\\nImport the APIRouter class from the FastAPI framework\\n\"\"\"\\n\\nfrom fastapi import APIRouter\\n\\n# Import the endpoint routers for health, information, and user functionalities\\nfrom app.endpoints import health, info, users\\n\\n# Create an APIRouter instance to hold all API routes hosted by the service\\napi_router = APIRouter()\\n\\n# Include special routes that all microservices should have and must not be altered\\napi_router.include_router(info.router)  # Information endpoint\\napi_router.include_router(health.router)  # Health check endpoint\\n\\n# Include microservice-specific routes to handle different use cases,\\n# such as user management, payments, profiles, publishing, and cart functionalities\\napi_router.include_router(users.router)  # User management endpoint', metadata={'source': '/Users/ashegde/Documents/projs/genai/experiments-genai/langchain/data/code/app/api.py', 'language': <Language.PYTHON: 'python'>}), Document(page_content='\"\"\"\\nImport necessary modules and packages\\n\"\"\"\\n\\nfrom fastapi import FastAPI\\nfrom fastapi.middleware.cors import CORSMiddleware\\nfrom fastapi.middleware.gzip import GZipMiddleware\\nfrom fastapi_versioning import VersionedFastAPI\\n\\nfrom app.api import api_router\\nfrom app.core.special_handlers import (shutdown_event_handler,\\n                                       startup_event_handler)\\nfrom app.metadata import Metadata\\n\\n# Initialize metadata object\\nmetadata = Metadata()', metadata={'source': '/Users/ashegde/Documents/projs/genai/experiments-genai/langchain/data/code/app/main.py', 'language': <Language.PYTHON: 'python'>}), Document(page_content='def get_app() -> FastAPI:\\n    \"\"\"\\n    Create and configure a FastAPI app instance with default settings.\\n\\n    Returns:\\n        FastAPI: A configured FastAPI app instance.\\n    \"\"\"\\n    # Create FastAPI instance with metadata details\\n    fast_app = FastAPI(\\n        title=metadata.get_service_title(),\\n        description=metadata.get_service_description(),\\n        version=metadata.get_service_release_version(),\\n        contact=metadata.get_service_contact(),\\n        # debug=metadata.is_debug_mode()\\n    )\\n\\n    # Allow Cross-Origin Resource Sharing (CORS) with default configurations\\n    # Reference: https://fastapi.tiangolo.com/tutorial/cors/\\n    fast_app.add_middleware(\\n        CORSMiddleware,\\n        allow_origins=[\"*\"],\\n        allow_credentials=True,\\n        allow_methods=[\"*\"],\\n        allow_headers=[\"*\"],\\n    )\\n\\n    # Compress response for any request that includes gzip in the accept-encoding header\\n    # Reference: https://fastapi.tiangolo.com/advanced/middleware/#gzipmiddleware\\n    fast_app.add_middleware(GZipMiddleware)\\n\\n    # Include all microservice routes including special routes like info and health\\n    fast_app.include_router(api_router)\\n\\n    # Configure API versioning by setting prefix format for all APIs\\n    fast_app = VersionedFastAPI(\\n        fast_app, version_format=\"{major}\", prefix_format=\"/api/v{major}\"\\n    )\\n\\n    # Configure startup and shutdown event handlers\\n    fast_app.add_event_handler(\"startup\", startup_event_handler(fast_app))\\n    fast_app.add_event_handler(\"shutdown\", shutdown_event_handler(fast_app))\\n\\n    return fast_app\\n\\n\\n# Initialize the FastAPI app\\napp = get_app()', metadata={'source': '/Users/ashegde/Documents/projs/genai/experiments-genai/langchain/data/code/app/main.py', 'language': <Language.PYTHON: 'python'>}), Document(page_content='\"\"\"\\nThis module contains test cases for the main file APIs.\\n\"\"\"\\n\\nfrom fastapi.testclient import TestClient\\n\\nfrom .main import app\\n\\n# Create a TestClient instance for interacting with FastAPI app\\nclient = TestClient(app)\\n\\n\\ndef test_health_api():\\n    \"\"\"\\n    Test the health API endpoint.\\n\\n    Asserts that the health endpoint returns a status code of 200 and the response is True.\\n    \"\"\"\\n    response = client.get(\"/api/v1/health\")\\n    assert response.status_code == 200\\n    assert response.json() is True\\n\\n\\ndef test_info_api():\\n    \"\"\"\\n    Test the info API endpoint.\\n\\n    Asserts that the info endpoint returns a status code of 200 and\\n    the response title is \"dummy_users\".\\n    \"\"\"\\n    response = client.get(\"/api/v1/info\")\\n    assert response.status_code == 200\\n    response_json = response.json()\\n    assert response_json[\"title\"] == \"dummy_users\"\\n\\n\\ndef test_users_api():\\n    \"\"\"\\n    Test the users API endpoint.\\n\\n    Asserts that the users endpoint returns a status code of 200 and the response is a list.\\n    \"\"\"\\n    response = client.get(\"/api/v1/users\")\\n    assert response.status_code == 200\\n    response_json = response.json()\\n    assert isinstance(response_json, list)\\n\\n\\ndef test_user_api():\\n    \"\"\"\\n    Test the user API endpoint.\\n\\n    Asserts that the user endpoint returns a status code of 200 and the response is a dictionary.\\n    \"\"\"\\n    response = client.get(\"/api/v1/users/1\")\\n    assert response.status_code == 200\\n    response_json = response.json()\\n    assert isinstance(response_json, dict)', metadata={'source': '/Users/ashegde/Documents/projs/genai/experiments-genai/langchain/data/code/app/test_main.py', 'language': <Language.PYTHON: 'python'>}), Document(page_content='\"\"\"\\nContains common handler functions utilized across services.\\n\"\"\"\\n\\nimport os\\nfrom functools import lru_cache\\n\\nfrom omegaconf import OmegaConf\\n\\nfrom app.metadata import Metadata\\n\\n\\n@lru_cache()\\ndef get_service_metadata():\\n    \"\"\"\\n    Retrieves the Configs class containing the application\\'s metadata information.\\n\\n    Returns:\\n        Metadata: An instance of the Metadata class.\\n\\n    Notes:\\n        - `@lru_cache()` decorator is used to cache the result of this function,\\n          avoiding recomputation upon subsequent calls.\\n    \"\"\"\\n    return Metadata()\\n\\n\\n@lru_cache()\\ndef load_config():\\n    \"\"\"\\n    Loads the configuration based on the system instance type where the service is running.\\n\\n    Returns:\\n        OmegaConf.DictConfig: The loaded configuration file.\\n\\n    Notes:\\n        - The environment is determined by the system variable `INSTANCE_ENVIRONMENT`.\\n        - Configuration files are loaded based on the instance environment:\\n          - For `PRODUCTION`: production.yml\\n          - For `STAGE`: stage.yml\\n          - For any other value or unset variable: development.yml is loaded.\\n    \"\"\"\\n    instance_environment = os.getenv(\"INSTANCE_ENVIRONMENT\")\\n    file = OmegaConf.load(\"app/configs/development.yml\")\\n\\n    if instance_environment == \"PRODUCTION\":\\n        file = OmegaConf.load(\"app/configs/production.yml\")\\n\\n    if instance_environment == \"STAGE\":\\n        file = OmegaConf.load(\"app/configs/stage.yml\")\\n\\n    return file', metadata={'source': '/Users/ashegde/Documents/projs/genai/experiments-genai/langchain/data/code/app/core/common_handlers.py', 'language': <Language.PYTHON: 'python'>}), Document(page_content='\"\"\"\\nDefines special handler functions utilized within services.\\n\"\"\"\\n\\n# Disabling pylint to suppress linting warnings\\n# pylint: disable-all\\n\\nfrom typing import Callable\\nfrom fastapi import FastAPI\\n\\n\\ndef _startup_event(app: FastAPI) -> None:\\n    \"\"\"\\n    Execute before the application starts.\\n\\n    This function ensures that the application does not start\\n    receiving requests until all startup event handlers have completed.\\n    \"\"\"\\n    pass\\n\\n\\ndef _shutdown_event(app: FastAPI) -> None:\\n    \"\"\"\\n    Execute before the application starts.\\n\\n    This function ensures that the application does not start\\n    receiving requests until all shutdown event handlers have completed.\\n    \"\"\"\\n    pass\\n\\n\\ndef startup_event_handler(app: FastAPI) -> Callable:\\n    \"\"\"\\n    Wrap function to handle startup events.\\n    \"\"\"\\n\\n    def startup() -> None:\\n        _startup_event(app)\\n\\n    return startup\\n\\n\\ndef shutdown_event_handler(app: FastAPI) -> Callable:\\n    \"\"\"\\n    Wrap function to handle shutdown events.\\n    \"\"\"\\n\\n    def shutdown() -> None:\\n        _shutdown_event(app)\\n\\n    return shutdown', metadata={'source': '/Users/ashegde/Documents/projs/genai/experiments-genai/langchain/data/code/app/core/special_handlers.py', 'language': <Language.PYTHON: 'python'>}), Document(page_content='\"\"\"\\nContains endpoints for the Users Sample API.\\n\"\"\"\\n\\nimport requests\\nfrom fastapi import APIRouter, status\\nfrom fastapi_versioning import version\\n\\nfrom app.core import common_handlers\\nfrom app.models.users import UserModel\\n\\n# Initialize API router\\nrouter = APIRouter(\\n    prefix=\"/users\", tags=[\"Users\"], responses={404: {\"description\": \"Not found\"}}\\n)\\n\\n# Load configuration settings\\nCONFIG = common_handlers.load_config()\\n# Define base URL for downstream services\\nBASE_URL = CONFIG.DOWNSTREAMS.JSON_PLACE_HOLDER\\n\\n\\n@router.get(\"/\", status_code=status.HTTP_200_OK)\\n@version(1)\\nasync def get_users():\\n    \"\"\"\\n    Endpoint to retrieve a list of users.\\n    Returns:\\n        JSON response containing user data.\\n    \"\"\"\\n    response = requests.get(f\"{BASE_URL}/users\", timeout=10)\\n    if response.status_code == status.HTTP_200_OK:\\n        return response.json()\\n    return None\\n\\n\\n@router.get(\"/{user_id}\", status_code=status.HTTP_200_OK)\\n@version(1)\\nasync def get_user(user_id: int):\\n    \"\"\"\\n    Endpoint to retrieve a specific user by ID.\\n    Args:\\n        user_id (int): The ID of the user to retrieve.\\n    Returns:\\n        JSON response containing user data.\\n    \"\"\"\\n    response = requests.get(f\"{BASE_URL}/users/{user_id}\", timeout=10)\\n    if response.status_code == status.HTTP_200_OK:\\n        return response.json()\\n    return None\\n\\n\\n@router.post(\"/user\", status_code=status.HTTP_200_OK)\\n@version(1)\\nasync def add_user(user: UserModel):\\n    \"\"\"\\n    Endpoint to add a new user.\\n    Args:\\n        user (UserModel): The user object to add.\\n    Returns:\\n        JSON response confirming the addition of the user.\\n    \"\"\"\\n    return {\\n        \"user_id\": user.user_id,\\n        \"first_name\": user.first_name,\\n        \"last_name\": user.last_name,\\n        \"email\": user.email,\\n    }', metadata={'source': '/Users/ashegde/Documents/projs/genai/experiments-genai/langchain/data/code/app/endpoints/users.py', 'language': <Language.PYTHON: 'python'>}), Document(page_content='\"\"\"\\nThis module contains functions used by the health API.\\n\"\"\"\\n\\nfrom fastapi import APIRouter, Depends, status\\nfrom fastapi_versioning import version\\n\\nrouter = APIRouter()\\n\\n\\nasync def get_session():\\n    \"\"\"\\n    Returns a mock boolean response indicating whether the session is active.\\n\\n    Returns:\\n        bool: True if the session is active, otherwise False.\\n    \"\"\"\\n    return True\\n\\n\\n@router.get(\"/health\", status_code=status.HTTP_200_OK)\\n@version(1)\\nasync def is_api_online(session: bool = Depends(get_session)):\\n    \"\"\"\\n    Returns the session response to confirm that the API is up and running.\\n\\n    Args:\\n        session (bool): A boolean value indicating the session status.\\n\\n    Returns:\\n        bool: The session status, True if the API is online, otherwise False.\\n    \"\"\"\\n    return session', metadata={'source': '/Users/ashegde/Documents/projs/genai/experiments-genai/langchain/data/code/app/endpoints/health.py', 'language': <Language.PYTHON: 'python'>}), Document(page_content='\"\"\"\\nDefines API routes managed by the service.\\n\"\"\"\\n\\nfrom fastapi import APIRouter\\n\\nfrom app.endpoints import health, info, users\\n\\napi_router = APIRouter()\\n\\n# Include essential routes that all microservices should have and must not be altered.\\napi_router.include_router(info.router, tags=[\"info\"])\\napi_router.include_router(health.router, tags=[\"health\"])\\n\\n# Define microservice-specific routes to handle particular use cases.\\n# For instance, in this case, it handles user-related functionality.\\n# It could be adapted for other functionalities like payments, profiles, publishing, carts, etc.\\napi_router.include_router(users.router, tags=[\"users\"], prefix=\"/users\")', metadata={'source': '/Users/ashegde/Documents/projs/genai/experiments-genai/langchain/data/code/app/endpoints/router.py', 'language': <Language.PYTHON: 'python'>}), Document(page_content='\"\"\"\\nDefines endpoints for retrieving microservice information.\\n\"\"\"\\n\\nfrom fastapi import APIRouter, Depends, status\\nfrom fastapi_versioning import version\\n\\nfrom app.core.common_handlers import get_service_metadata\\nfrom app.metadata import Metadata\\n\\nrouter = APIRouter()\\n\\n\\n@router.get(\"/info\", status_code=status.HTTP_200_OK)\\n@version(1)\\nasync def info(metadata: Metadata = Depends(get_service_metadata)):\\n    \"\"\"\\n    Retrieve metadata information for the microservice.\\n\\n    Parameters:\\n    - metadata (Metadata): Metadata object containing service information.\\n\\n    Returns:\\n    - dict: Metadata information for the microservice.\\n    \"\"\"\\n    return metadata.get_metadata()', metadata={'source': '/Users/ashegde/Documents/projs/genai/experiments-genai/langchain/data/code/app/endpoints/info.py', 'language': <Language.PYTHON: 'python'>}), Document(page_content='\"\"\"\\nThis module contains functions used by the health API.\\n\"\"\"\\n\\nfrom fastapi import APIRouter, Depends, status\\nfrom fastapi_versioning import version\\n\\nrouter = APIRouter()\\n\\n\\nasync def get_session():\\n    \"\"\"\\n    Returns a mock boolean response indicating whether the session is active.\\n\\n    Returns:\\n        bool: True if the session is active, otherwise False.\\n    \"\"\"\\n    return True\\n\\n\\n@router.get(\"/health\", status_code=status.HTTP_200_OK)\\n@version(1)\\nasync def is_api_online(session: bool = Depends(get_session)):\\n    \"\"\"\\n    Returns the session response to confirm that the API is up and running.\\n\\n    Args:\\n        session (bool): A boolean value indicating the session status.\\n\\n    Returns:\\n        bool: The session status, True if the API is online, otherwise False.\\n    \"\"\"\\n    return session', metadata={'source': '/Users/ashegde/Documents/projs/genai/experiments-genai/langchain/data/code/app/endpoints/.ipynb_checkpoints/health-checkpoint.py', 'language': <Language.PYTHON: 'python'>}), Document(page_content='\"\"\"\\nDefines the data model and schema for handling user-related requests and responses.\\n\"\"\"\\n\\nfrom dataclasses import dataclass\\nfrom typing import Optional\\n\\nfrom pydantic import BaseModel, Field\\n\\n\\n@dataclass\\nclass UserModel(BaseModel):\\n    \"\"\"\\n    Represents the structure of user data.\\n    \"\"\"\\n\\n    user_id: Optional[int] = None  # Unique identifier for the user, if available\\n    first_name: str = Field(\\n        None, title=\"First name\", max_length=50\\n    )  # User\\'s first name\\n    last_name: str = Field(None, title=\"Last name\", max_length=50)  # User\\'s last name\\n    email: Optional[str] = None  # User\\'s email address', metadata={'source': '/Users/ashegde/Documents/projs/genai/experiments-genai/langchain/data/code/app/models/users.py', 'language': <Language.PYTHON: 'python'>}), Document(page_content='\"\"\"\\nContains service level configurations and metadata retrieval methods.\\n\"\"\"\\n\\nfrom typing import ClassVar\\n\\nfrom pydantic_settings import BaseSettings', metadata={'source': '/Users/ashegde/Documents/projs/genai/experiments-genai/langchain/data/code/app/.ipynb_checkpoints/metadata-checkpoint.py', 'language': <Language.PYTHON: 'python'>}), Document(page_content='class Metadata(BaseSettings):\\n    \"\"\"\\n    Represents metadata for the application.\\n    \"\"\"\\n\\n    # Metadata properties\\n    title: ClassVar[str] = \"dummy_users\"\\n    description: ClassVar[str] = (\\n        \"Service to fetch the list of dummy users from 3rd party downstream services\"\\n    )\\n    version: ClassVar[str] = \"1.1.6\"\\n    contact: ClassVar[dict] = {\\n        \"name\": \"Ashwin Hegde\",\\n        \"url\": \"https://github.com/hegdeashwin\",\\n        \"email\": \"ashwin.hegde3@gmail.com\",\\n    }\\n\\n    def get_service_title(self):\\n        \"\"\"\\n        Retrieves the title of the service.\\n        \"\"\"\\n        return self.title\\n\\n    def get_service_description(self):\\n        \"\"\"\\n        Retrieves the description of the service.\\n        \"\"\"\\n        return self.description\\n\\n    def get_service_release_version(self):\\n        \"\"\"\\n        Retrieves the release version of the service.\\n        \"\"\"\\n        return self.version\\n\\n    def get_service_contact(self):\\n        \"\"\"\\n        Retrieves the contact information of the service.\\n        \"\"\"\\n        return self.contact\\n\\n    def get_hostname(self):\\n        \"\"\"\\n        Retrieves the machine hostname.\\n        \"\"\"\\n        return \"127.0.0.1\"\\n\\n    def get_port(self):\\n        \"\"\"\\n        Retrieves the application server port.\\n\\n        This port should be unique among all microservices existing for beaver.\\n        \"\"\"\\n        return 3000\\n\\n    def is_debug_mode(self):\\n        \"\"\"\\n        Determines if the service is in debug mode.\\n        \"\"\"\\n        return True\\n\\n    def get_metadata(self):\\n        \"\"\"\\n        Retrieves the metadata object of the service.\\n        \"\"\"\\n        return {\\n            \"title\": self.title,\\n            \"description\": self.description,\\n            \"version\": self.version,\\n            \"contact\": self.contact,\\n            \"hostname\": self.get_hostname(),\\n            \"port\": self.get_port(),\\n        }', metadata={'source': '/Users/ashegde/Documents/projs/genai/experiments-genai/langchain/data/code/app/.ipynb_checkpoints/metadata-checkpoint.py', 'language': <Language.PYTHON: 'python'>})]\n"
     ]
    }
   ],
   "source": [
    "from langchain_text_splitters import RecursiveCharacterTextSplitter\n",
    "\n",
    "python_splitter = RecursiveCharacterTextSplitter.from_language(\n",
    "    language=Language.PYTHON, chunk_size=2000, chunk_overlap=200\n",
    ")\n",
    "texts = python_splitter.split_documents(documents)\n",
    "print(len(texts))\n",
    "print(texts)"
   ]
  },
  {
   "cell_type": "code",
   "execution_count": 34,
   "id": "8b38688e-eed8-4b53-98a5-1bc17bbe9989",
   "metadata": {},
   "outputs": [
    {
     "name": "stdout",
     "output_type": "stream",
     "text": [
      "client=SentenceTransformer(\n",
      "  (0): Transformer({'max_seq_length': 512, 'do_lower_case': True}) with Transformer model: BertModel \n",
      "  (1): Pooling({'word_embedding_dimension': 1024, 'pooling_mode_cls_token': True, 'pooling_mode_mean_tokens': False, 'pooling_mode_max_tokens': False, 'pooling_mode_mean_sqrt_len_tokens': False, 'pooling_mode_weightedmean_tokens': False, 'pooling_mode_lasttoken': False, 'include_prompt': True})\n",
      "  (2): Normalize()\n",
      ") model_name='BAAI/bge-large-en-v1.5' cache_folder=None model_kwargs={'device': 'cpu'} encode_kwargs={'normalize_embeddings': True} multi_process=False show_progress=True\n"
     ]
    }
   ],
   "source": [
    "from langchain_chroma import Chroma\n",
    "from langchain_community.embeddings import HuggingFaceEmbeddings\n",
    "\n",
    "# Initialize an instance of HuggingFaceEmbeddings with the specified parameters\n",
    "embeddings = HuggingFaceEmbeddings(\n",
    "    model_name=\"BAAI/bge-large-en-v1.5\",     # Provide the pre-trained model's path\n",
    "    model_kwargs={'device':'cpu'}, # Pass the model configuration options\n",
    "    encode_kwargs={'normalize_embeddings': True} # Pass the encoding options\n",
    ")\n",
    "\n",
    "print(embeddings)"
   ]
  },
  {
   "cell_type": "code",
   "execution_count": 35,
   "id": "938c72bf-4718-4eed-8b86-d42b73832861",
   "metadata": {},
   "outputs": [
    {
     "name": "stderr",
     "output_type": "stream",
     "text": [
      "Batches: 100%|█████████████████████████████████████████████████████████████████████████████████████████████████████████████████████████████████████████████████████████████████████████████████████████████████████████| 1/1 [00:21<00:00, 21.41s/it]\n"
     ]
    }
   ],
   "source": [
    "db = Chroma.from_documents(texts, embedding=embeddings)\n",
    "retriever = db.as_retriever(\n",
    "    search_type=\"mmr\",\n",
    "    search_kwargs={\"k\": 8},\n",
    ")"
   ]
  },
  {
   "cell_type": "code",
   "execution_count": 36,
   "id": "91c215f9-09f6-4143-b71c-bc23ba727cfd",
   "metadata": {},
   "outputs": [],
   "source": [
    "from langchain_community.chat_models.ollama import ChatOllama\n",
    "llm = ChatOllama(model=\"codellama\")"
   ]
  },
  {
   "cell_type": "code",
   "execution_count": 37,
   "id": "c1c47fde-abe4-4788-8893-88c476052b03",
   "metadata": {},
   "outputs": [
    {
     "name": "stdout",
     "output_type": "stream",
     "text": [
      "\n",
      "The healthcheck REST API endpoint is typically used to check the status of a service or application. When making a request to this endpoint, the service or application will return some form of response that indicates its current state and readiness to handle requests. This can be useful for monitoring and debugging purposes, as well as for ensuring that the service or application is available and functioning correctly.\n",
      "\n",
      "Some common examples of responses from a healthcheck REST API endpoint include:\n",
      "\n",
      "* \"OK\" or \"200\": The service or application is up and running, and ready to handle requests.\n",
      "* \"Error\" or \"500\": There is an error with the service or application that prevented it from responding to the request.\n",
      "* \"Service Unavailable\" or \"503\": The service or application is currently unavailable due to maintenance, high traffic, or other reasons.\n",
      "* \"Not Implemented\" or \"501\": The requested method or endpoint is not implemented by the service or application.\n",
      "* \"Bad Request\" or \"400\": The request was malformed or contained invalid data.\n",
      "\n",
      "It's important to note that the specific response from a healthcheck REST API endpoint may vary depending on the implementation and configuration of the service or application.\n",
      "{'model': 'codellama', 'created_at': '2024-04-14T07:26:05.644126Z', 'message': {'role': 'assistant', 'content': ''}, 'done': True, 'total_duration': 11192946375, 'load_duration': 5619514917, 'prompt_eval_count': 27, 'prompt_eval_duration': 114412000, 'eval_count': 268, 'eval_duration': 5458525000}\n"
     ]
    }
   ],
   "source": [
    "response_message = llm.invoke(\n",
    "    \"what the healthcheck REST API endpoint\"\n",
    ")\n",
    "\n",
    "print(response_message.content)\n",
    "print(response_message.response_metadata)"
   ]
  },
  {
   "cell_type": "code",
   "execution_count": 38,
   "id": "d003d3ef-c5f6-4541-b203-5f1111c58a76",
   "metadata": {},
   "outputs": [],
   "source": [
    "from langchain.chains import create_history_aware_retriever, create_retrieval_chain\n",
    "from langchain.chains.combine_documents import create_stuff_documents_chain\n",
    "from langchain_core.prompts import ChatPromptTemplate\n",
    "\n",
    "system_template = \"\"\"\n",
    "Answer the user's questions based on the below context.\n",
    "If you don't know the answer, just say that you don't know, don't try to make up an answer. \n",
    "Use three sentences maximum and keep the answer as concise as possible:\n",
    "\n",
    "{context}\n",
    "\"\"\"\n",
    "\n",
    "# First we need a prompt that we can pass into an LLM to generate this search query\n",
    "prompt = ChatPromptTemplate.from_messages(\n",
    "    [\n",
    "        (\"system\", system_template),\n",
    "        (\"user\", \"{input}\"),\n",
    "    ]\n",
    ")\n",
    "document_chain = create_stuff_documents_chain(llm, prompt)\n",
    "\n",
    "qa_chain = create_retrieval_chain(retriever, document_chain)"
   ]
  },
  {
   "cell_type": "code",
   "execution_count": 39,
   "id": "f3c7f95c-eb79-482a-8f79-f01b1a924766",
   "metadata": {},
   "outputs": [
    {
     "name": "stderr",
     "output_type": "stream",
     "text": [
      "Batches: 100%|█████████████████████████████████████████████████████████████████████████████████████████████████████████████████████████████████████████████████████████████████████████████████████████████████████████| 1/1 [00:00<00:00, 11.45it/s]\n"
     ]
    },
    {
     "data": {
      "text/plain": [
       "'You can access the health check API by making a GET request to <http://localhost:8000/api/v1/health>. The response should be JSON containing the status of your API, which in this case is `true`.'"
      ]
     },
     "execution_count": 39,
     "metadata": {},
     "output_type": "execute_result"
    }
   ],
   "source": [
    "# Run, only returning the value under the answer key for readability\n",
    "qa_chain.pick(\"answer\").invoke({\"input\": \"How to access health check API?\"})"
   ]
  },
  {
   "cell_type": "code",
   "execution_count": null,
   "id": "fde28342-0365-4d4b-a7dc-1055e0e27752",
   "metadata": {},
   "outputs": [],
   "source": []
  }
 ],
 "metadata": {
  "kernelspec": {
   "display_name": "Python 3 (ipykernel)",
   "language": "python",
   "name": "python3"
  },
  "language_info": {
   "codemirror_mode": {
    "name": "ipython",
    "version": 3
   },
   "file_extension": ".py",
   "mimetype": "text/x-python",
   "name": "python",
   "nbconvert_exporter": "python",
   "pygments_lexer": "ipython3",
   "version": "3.9.7"
  }
 },
 "nbformat": 4,
 "nbformat_minor": 5
}
