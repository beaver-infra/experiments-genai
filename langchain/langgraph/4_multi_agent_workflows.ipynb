{
 "cells": [
  {
   "cell_type": "markdown",
   "id": "53f83c66-9844-4068-a268-dc1eec47e283",
   "metadata": {},
   "source": [
    "# Multi Agent Collaboration\n",
    "\n",
    "Sharing the states between agents"
   ]
  },
  {
   "cell_type": "code",
   "execution_count": null,
   "id": "f41d3938-541c-40aa-867a-a0d010693eec",
   "metadata": {},
   "outputs": [],
   "source": [
    "!pip install --quite -U langchain langchain_community tavily-python dotenv"
   ]
  },
  {
   "cell_type": "markdown",
   "id": "ef3690bd-31b6-45ae-aa82-e05826cbb1e3",
   "metadata": {},
   "source": [
    "## Create Langchain agent"
   ]
  },
  {
   "cell_type": "code",
   "execution_count": 1,
   "id": "7a8dda9b-73cd-4e6c-8fbd-2519445484cd",
   "metadata": {},
   "outputs": [],
   "source": [
    "from langchain import hub\n",
    "from langchain_community.chat_models.ollama import ChatOllama\n",
    "from langchain_community.tools.tavily_search import TavilySearchResults\n",
    "from langchain.agents import AgentExecutor, create_react_agent, load_tools\n",
    "from langchain_core.runnables import RunnableConfig"
   ]
  },
  {
   "cell_type": "code",
   "execution_count": null,
   "id": "fca5d77b-15a3-4721-af31-6eafb30afc98",
   "metadata": {},
   "outputs": [],
   "source": []
  }
 ],
 "metadata": {
  "kernelspec": {
   "display_name": "Python 3 (ipykernel)",
   "language": "python",
   "name": "python3"
  },
  "language_info": {
   "codemirror_mode": {
    "name": "ipython",
    "version": 3
   },
   "file_extension": ".py",
   "mimetype": "text/x-python",
   "name": "python",
   "nbconvert_exporter": "python",
   "pygments_lexer": "ipython3",
   "version": "3.9.7"
  }
 },
 "nbformat": 4,
 "nbformat_minor": 5
}
